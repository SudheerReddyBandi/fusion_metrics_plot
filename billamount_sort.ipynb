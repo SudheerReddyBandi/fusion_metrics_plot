{
  "nbformat": 4,
  "nbformat_minor": 0,
  "metadata": {
    "colab": {
      "name": "billamount_sort.ipynb",
      "provenance": [],
      "include_colab_link": true
    },
    "kernelspec": {
      "name": "python3",
      "display_name": "Python 3"
    }
  },
  "cells": [
    {
      "cell_type": "markdown",
      "metadata": {
        "id": "view-in-github",
        "colab_type": "text"
      },
      "source": [
        "<a href=\"https://colab.research.google.com/github/SudheerReddyBandi/fusion_metrics_plot/blob/master/billamount_sort.ipynb\" target=\"_parent\"><img src=\"https://colab.research.google.com/assets/colab-badge.svg\" alt=\"Open In Colab\"/></a>"
      ]
    },
    {
      "cell_type": "code",
      "metadata": {
        "id": "pILl4fL-y9TA",
        "colab_type": "code",
        "colab": {
          "base_uri": "https://localhost:8080/",
          "height": 255
        },
        "outputId": "9f714020-cba8-4114-ff7b-221f7774e431"
      },
      "source": [
        "from operator import itemgetter\n",
        "import numpy as np\n",
        "class Apartment:\n",
        "  def __init__(self,n):\n",
        "    self.all_details = []\n",
        "    #data_type = [('self.flatno', int), ('self.name', 'S15'), ('self.amount', int)]\n",
        "    for i in range(0, n):\n",
        "      self.flatno = int(input('Enter the flatno.: '))\n",
        "      self.name = input('Enter the name: ')\n",
        "      self.amount = int(input('Enter the bill amount: '))\n",
        "      self.all_details.append({'Flatno': self.flatno,'Name': self.name,'BillAmount': self.amount})\n",
        "    print(self.all_details)\n",
        "    #self.details=np.array(self.all_details)\n",
        "    #print(self.details)\n",
        "class Apartment_demo(Apartment):\n",
        "  def __init__(self,n):\n",
        "    Apartment.__init__(self,n)\n",
        "  \n",
        "  def getsecondlargestelectricitybillamt(self):\n",
        "    #for details in self.all_details:\n",
        "    new_details=sorted(self.all_details, key=itemgetter('BillAmount'))\n",
        "    print(new_details)\n",
        "    print('the second largest amount')\n",
        "    print(new_details[-2]['BillAmount'])\n",
        "\n",
        "n = int(input(\"Please enter number:\"))\n",
        "obj=Apartment_demo(n)\n",
        "obj.getsecondlargestelectricitybillamt()"
      ],
      "execution_count": 1,
      "outputs": [
        {
          "output_type": "stream",
          "text": [
            "Please enter number:3\n",
            "Enter the flatno.: 1\n",
            "Enter the name: asd\n",
            "Enter the bill amount: 300\n",
            "Enter the flatno.: 2\n",
            "Enter the name: def\n",
            "Enter the bill amount: 350\n",
            "Enter the flatno.: 3\n",
            "Enter the name: lkj\n",
            "Enter the bill amount: 200\n",
            "[{'Flatno': 1, 'Name': 'asd', 'BillAmount': 300}, {'Flatno': 2, 'Name': 'def', 'BillAmount': 350}, {'Flatno': 3, 'Name': 'lkj', 'BillAmount': 200}]\n",
            "[{'Flatno': 3, 'Name': 'lkj', 'BillAmount': 200}, {'Flatno': 1, 'Name': 'asd', 'BillAmount': 300}, {'Flatno': 2, 'Name': 'def', 'BillAmount': 350}]\n",
            "the second largest amount\n",
            "300\n"
          ],
          "name": "stdout"
        }
      ]
    }
  ]
}